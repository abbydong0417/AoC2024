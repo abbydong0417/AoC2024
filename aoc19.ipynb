{
 "cells": [
  {
   "cell_type": "code",
   "execution_count": 32,
   "metadata": {},
   "outputs": [
    {
     "name": "stdout",
     "output_type": "stream",
     "text": [
      "['ugbb', ' bgubg', ' brbw', ' buru', ' uggwrr', ' wur', ' rrb', ' ruuur', ' rbggrw', ' uwuwwww', ' wubugb', ' wgg', ' wrrbru', ' bgb', ' wrub', ' bubruu', ' wggg', ' rbw', ' ubw', ' bwugw', ' ruw', ' gbbbgb', ' uw', ' urwrb', ' ubgrbug', ' wwwbbg', ' wwgw', ' wgrbbr', ' wrbgwgu', ' buwb', ' uwrrbb', ' bbrgbgr', ' uuug', ' gbwbbg', ' grr', ' ugw', ' bgbrb', ' ggrwu', ' brbggb', ' bwbb', ' wbb', ' ggruw', ' rwr', ' grugwr', ' rrgwgur', ' wrgrw', ' buw', ' urbbbr', ' rgub', ' bbwgr', ' gubu', ' rgubb', ' ub', ' rgb', ' brwuu', ' bbg', ' rwwg', ' ubrbrwg', ' ggbr', ' rgw', ' wgwb', ' bwr', ' bbbwuww', ' bbgr', ' gbbrw', ' wwurrb', ' guur', ' rrwg', ' urwwbu', ' uurr', ' wwwg', ' bwrrguug', ' rb', ' urrr', ' rbrw', ' bgrrb', ' bu', ' uuw', ' bbr', ' gbgg', ' br', ' wbwbuurb', ' wr', ' ggbu', ' brbbug', ' u', ' guwuww', ' ggrr', ' bwubw', ' wb', ' rruwbw', ' wgrgguu', ' ubuwg', ' bururr', ' rgwg', ' bbbr', ' gbugwr', ' ubrgw', ' buuugb', ' wrru', ' bwgb', ' wbwwbb', ' bwru', ' wrw', ' wuu', ' ruu', ' ggbg', ' urw', ' rgwwr', ' uug', ' rr', ' gub', ' rwb', ' wbw', ' uugbw', ' gwbrbw', ' bgggur', ' rrg', ' bbbwbruw', ' wrb', ' wrguw', ' bwg', ' brrg', ' rbbru', ' gg', ' gbgwurg', ' wrrr', ' urwwbg', ' ruuw', ' rwrurrrb', ' ubrb', ' ubbwg', ' urbbbggb', ' rwuwb', ' urbrgu', ' wwbbr', ' ruurg', ' urrb', ' b', ' ugg', ' ubru', ' rww', ' ubggu', ' urrwrw', ' uu', ' urbw', ' ubbr', ' ggu', ' bbbug', ' wggbr', ' rubwggub', ' rwgb', ' brug', ' ggug', ' ggbwugw', ' gru', ' urrw', ' bwrubgu', ' uwr', ' wbwuuwb', ' brb', ' brwb', ' bubrru', ' wgwrg', ' rub', ' rwbww', ' g', ' urb', ' uwuwu', ' rbu', ' wbggb', ' guu', ' wgrr', ' rgr', ' rwwggu', ' buguurg', ' ggwr', ' rrgw', ' uwuwwbr', ' bw', ' wrr', ' wruww', ' bwb', ' bwrb', ' ubb', ' gguru', ' rur', ' ubgwr', ' rrw', ' gwugrr', ' gggr', ' wuwgwg', ' rbr', ' bwwb', ' ubbgr', ' ugu', ' wwu', ' rwuw', ' wbggu', ' grwrbwrg', ' gbbg', ' brw', ' burw', ' gbgbrw', ' bbwbbug', ' wgggw', ' grwbwrg', ' gbw', ' wgu', ' guuwg', ' gur', ' grrw', ' rug', ' gwb', ' gbb', ' wbgb', ' bbb', ' rrbubbu', ' bggrrbb', ' grbg', ' bgrrruu', ' bwuw', ' wwgubgbr', ' wgw', ' gbugr', ' wuubgb', ' bwww', ' guwwwb', ' rbrug', ' uubrr', ' rbur', ' uuu', ' rwu', ' ggugb', ' guw', ' gruw', ' buu', ' brubr', ' uwuuw', ' rwru', ' bg', ' rrbb', ' bbbw', ' wwrr', ' ugurb', ' uwb', ' wrwbur', ' ubgbuwb', ' wbbb', ' rbb', ' ugrw', ' wgwbwg', ' rrwb', ' brg', ' bwguu', ' uwgb', ' ubgu', ' ugb', ' rbbwuwub', ' gbr', ' uwu', ' rw', ' wru', ' wub', ' wgrbgrr', ' rugbrwb', ' www', ' grw', ' ugug', ' rrbg', ' gbuw', ' grwbu', ' ururgbw', ' buuwrw', ' bbrw', ' ubr', ' bb', ' ubrrwwr', ' buwgb', ' bur', ' ww', ' ugbgb', ' bbu', ' bugr', ' ugr', ' rwuu', ' rgrgwbru', ' bgurwu', ' uru', ' gwuu', ' brbg', ' rgrwwuww', ' bwuwg', ' wbbg', ' rbg', ' gwu', ' bbrgg', ' urrrrbu', ' grbbu', ' gburb', ' wbuu', ' rgwr', ' ggb', ' gurbwbuw', ' bru', ' ru', ' rrr', ' wugugwrg', ' wg', ' ubwwub', ' bbwwbg', ' ggg', ' wbwgrbg', ' bgg', ' wruw', ' ugrgg', ' buurub', ' wu', ' wwuugub', ' rgugbw', ' wgb', ' brru', ' ubu', ' brggr', ' rgg', ' urgbgbb', ' bggrww', ' wrbgrugw', ' wrwbgubg', ' buwgbr', ' gu', ' rrgrb', ' uwwguwu', ' brr', ' uubbuuu', ' wbu', ' bwbwb', ' uuww', ' wrwgu', ' rwwbw', ' gwwbubw', ' wgr', ' rrgurrg', ' bwu', ' bub', ' wwguu', ' rbrrrwbr', ' wgrbrrb', ' ur', ' bugbg', ' wwgr', ' bugww', ' uwub', ' rrwbrbbg', ' wwuwg', ' rggu', ' gbu', ' uruu', ' rgu', ' bgwr', ' guuwgww', ' wrwb', ' ubbgu', ' wgbbbw', ' wrg', ' wwb', ' ruuuwg', ' rbwgru', ' guwr', ' rwbuur', ' grurrb', ' uwg', ' rguguur', ' urww', ' wbgggg', ' gww', ' rugwrw', ' uub', ' bbw', ' rugwb', ' w', ' rurbg', ' rwbw', ' wwbrr', ' wbuuu', ' urgwu', ' wuwwbr', ' uww', ' uwrwbrrw', ' grb', ' bwbug', ' wgrubgw', ' ubbbgu', ' rru', ' bbbbbw', ' wwgu', ' bgr', ' grg', ' rrrr', ' wuwuw', ' brwugrwb', ' rbrgw', ' rgbwbr', ' ggbrr', ' wbg', ' uurur', ' bgu', ' rrrug', ' rgug', ' ubg', ' buwrbbbr', ' bug', ' ggruuu', ' bww', ' rwgwrub', ' urr', ' wuwwugb', ' bbgwg', ' gw', ' wwg', ' ugrruuw', ' ggbgr', ' wwr', ' bggw', ' gwuurr', ' gwr', ' ugbwbu', ' wuw', ' gwg', ' wug', ' gug', ' gwbu', ' guugbub', ' rg', ' bubbu', ' gwugw', ' uugb', ' ggbrw', ' rbwubb', ' rwg', ' ugwg', ' rwur', ' wwbrgg', ' ggw', ' gb', ' ubwb', ' uur']\n",
      "['wuuugbrrgwbuuwrugbgugbbrwuuwubgurrbbbugubwuuggb', 'wwgrbrwwrugbrrrgbwuggwwgrgruguwrwuugrgrgwubbwubbbrrgw', 'ggwgwugwuuruburbbgruwgggbbrwbgrurggubugrwbuu', 'rbggwuwgruwubrgwwgbwgwuggwgururrggbruuugrggbugwugr', 'wwbbbwrbwwgwgrwgubuurrwrrggurubrbwgwgbwwwrbwrwuubgr', 'bwwuwbgrrbuwbbuuubuwurwbgwugggwrbrrgwugbwrubgubbgrwwbrwggr', 'wgruwwbbbuwbwuuuuwuwbugbubbrbgwwuugbgwwwrg', 'bbrbubbuurgwuubwbrrggwwrbrrbggbruuuuwgbgrgrgrubwgur', 'ggbuwgbwbubugwrgggwggwbwbugwubgwuubbbrgrurbrubgggwuwbrwrr', 'rbuubrwggurbgbwrugbuguwurrbgrbwurrwrburbgbgrgb', 'uurrubruubgwrwubuuugwuwguwgggwrggbrruuwrgrwrguubbuguwu', 'gbbuurbbwwwugrruubrgwbrurrwuuuwbbubggrugbbwubbr', 'wburbggrgbwububwbbwbbgwuuuwrgrrguuuburwrgururrugrbwrbb', 'ugwubrgbguubrrgwgguguguuurbbgggwurgbbwbugbu', 'rubbbuburwrrwwuwurgwuugbbburugrurbubbgbwgbwgrbuw', 'rwwbrwubwuwuwubugwwurbwrgrwbgwwwbrwwwuuwwwgrwbgwwg', 'urgbuwrurrubbuugwrurrurwgggugwwrgbggbbggr', 'rwwbrbuwruubggruuuurrgbbuuwruuwgbgubrwrrwwbggr', 'brguwwurugubuwuwbburgrgbbuuuwgggbuwgbwgbwgrgwrgubwrubgurbggr', 'bruuwrugwbgwrwwgwugwuugurrubgurguwuuuwrbwrrgwrrwbbubuww', 'uwgbwbgrrbgwbgugwuwrwbrrwwrwwuwrbbwuubggburruguuuu', 'wuugwrgggggruwrgugbwrgbgurrbgrbrggwruuuuwbrugwuubrgub', 'rwubgbrgruwgrurrrggwwubguwbbrwuwrbgubrgruubwggrgrguwg', 'rwbrgbubugubgbbgbuwbrgwwgbrgrwwrubgrurbbwggr', 'ubwbuwburrurrwwwgggubrwbuwrgrrwbrwgurwwwurbwrrgb', 'gwwrbguuuubwubuugbbuugwwrwrwubuwbwrbwuurggrwubgrbguuggrggr', 'rgwbrgwguggwbwbgugwbwwwrwbbwubwgwrrgbgrbwugrbwgwur', 'rgwugrwurrggubwwuwgubgrggwububggwrwwgurwuwwbbbwbruwgggrubr', 'ugbwgbwrgubbrgrgrugrgrgggwbrbrrrwgwbguwgbg', 'rurggbuubwugggwgbrgugruwwugrwgrgrwgwgbwbbggwwggr', 'uubwubbburuggrbwgwrubuwuwggrbgrugbgguwgrwugbgrbwbgwbgwbw', 'bgrbuggurwbrrggwbuwbrgwgrrwurrbrwwuubbgwurgwruuwgbg', 'gwubbgbrgwbrgrwugugwrgubgwrrrgrugrgrgggbgbwwurggr', 'rruuguwgrbwggubrwrurrrbggbwbbwubgwuwugrubub', 'ggwgugburuwbwubbuwrwbrrwubgbwgrrwgguguwruuruggr', 'grrgrrggbuggwrrbwggbbrrbgbguubuwururbrbggr', 'ugrrbgwwgwgbbrbbbwgrurwuruwrggrrguuuubwwugwgbgb', 'gwrggrruwbgwugrgrwbwuubrruuwuurgubuwurrruwbubrbubrrrurrw', 'rrbrbwruwuurwrrurrwbrbbrwugbgrwbwwugwugwguggr', 'rrwbbuwrwwuuwburguwurwrwggwrwrwuwwbgggubgrwrbg', 'ggrwggrbwubuugwuuwggwubgwrgrgwbwrwrbguuuurugggbugugrgww', 'uubwbgbbubwubrguwbuuwbgurwwggrguuggrwrurbwgbbwr', 'wrbburgrguggrgrrgugbbgwbbbwbgrbubwuugwrbwbguwrwrrguwu', 'rbbuwgguuuubwuwrbbrrurwgwbbbbruggggwuwggbb', 'bubwbwgbubuwrgbrwbwbrbrrrrgwurgbrruuwbwrbrgb', 'gbrubrwgubwwwwwwubrugrrbuubugrwruugggbugbbrrwgbbwbg', 'bggrgurwbgbggguuwgurrggrubwbrgwugwubwruuuurgggwwuwubrugrwggr', 'gbgwrbgwggruwugwwrrubbrgrgwguwgbgrgrrgwubbggguwwrwrgubrr', 'gbrgguwubbbuwrgrbrwuuggwuuururuugrgrwwugbbww', 'wbubwrbwrwguuuuwwbrrrwwrrbwubruwrwgbwggr', 'ugwbrwbbbrggwbuggburubbrubugburbwbbuuruggwurrbwwggru', 'gurwwbgrwgwwgbwuuuwugubgbwbgugwgrggrburwrbu', 'buwrbgbuubrgbwwubwbgbrubuubugbbwbbuwrbbbrbggr', 'bgrurrrgbubuugugrbubwurgbbgbuggrbggbrrguwuwwub', 'brrbrubrwgrrrgrbwrrrwbuwburgwggrrbrugugguuwbggwwuggr', 'gwuubrrbugbggbwbrwuwgbuuugwrbwwrubgrrgrrbbgubwwugrggr', 'wrrrbwbgrwgbgbrbwgurrwrgwbbbgrrbrrgrgwggugbbw', 'bgggbubuuguggbrbbwuwubwbbgwguggrburrgbggruburwrwrwrrwwggr', 'wbbbbubwubgubburbbwrbrbbgwrrwruwugbbgugubwbgugubuurugrgrbggr', 'gwbugbrbbubrgurrbguurwurbguwrgbrgrgrwwuuwbgwbggbgurrgur', 'ugwrbwrugbgwgbwwbgugwrwrgbwrbugggrguuwuwuugbruu', 'ubwwrbugwgrubgubbbwwggugrubgbguruurubgwbbububrbbbgguurrw', 'rguuwwbrrggbrurwwgubuwrwruubwubrgbrgwggwrrgggwrwrggr', 'rruuggwruuwrrwbgbgububurrrbbwggrgburwrrbwwrburgbuurbbuggg', 'ruurgrruwuuruwuwuugrbbbwruwbbwurguburuwuuwrbrr', 'rbwrrwrgubugwurwrrururrgrugwwgrrwrbubruwwuwrww', 'rrgbwwgubwwbrrrrgggwguwgbuuwgurubbgwwggwubwugr', 'gbrbubbrugbwbwwrugugbrubbbggubwwbuwugurugrgrgwburruwwg', 'wrgbwrugwwrgrrgrbwubrrrrrgrrurbrgrbwuguuwrrg', 'wguwbrrbuuwwbrrwgruubbugwrrrwubuugugbuuruggwbbgw', 'ugrugrgbuuubgwwrrrrbbgugubgbbwgrwrbuugwbwgggrugwbubwgwruggr', 'wruubggwugwggrggbwgwbrrgrwwwugbwrbwgrggr', 'grgwrwwrgbbrguggguubbrbgrbrrrwbrgbrwbrruurggburrwww', 'rbubgbrubwugbuurbrrwguwguwgbgwwguuururbbbggbg', 'rggwwwwrguurgwuuwguugbugrggrrbuuubwrbgbwuwbrrrgrggr', 'uwgwbuuuubwrruguurrruuuwurwwbugbwuwguwuuubuguwggbrrrugrb', 'uwuuruwwbgwuuwbrgbbuwbrwruuwbwrrbuuubwwggr', 'wrbgwwggbuuwwgbubgbuurrggurwrrrugrugbbrbggr', 'bwrwgbubrwruwgrgwuuurrbbwrggbgubwbrburrbbgwurguugrrugrgbg', 'bgwwwgbrbbwwbwrbubbgbwgruugbwgubbwuggbrrbggwruggrggggr', 'guuwguuubuwrbwbgwugwwgwgbubbbwugbbggrrgubuwrwgggwbrbbwru', 'ruwburwgrgbbbubrbubwrbrgwburrubwggbgugrrwgwr', 'gugbwuuurwgwwbwuugubbbruurwugguuubwrugwbgburwb', 'rgwbrguwgrgwbwrgbgwwubrbuugugbgwrbrbbgugruwrbwrbbggrbgr', 'wbwwwwbggwugwurgrbgrgwbgwubgwrwgwrgubugbubuub', 'rgrruwrrwruwbrbggwrbuubrrbrwgrwuwwwwurgwbubgbwuugbwrgg', 'rurgubgrbururwwbggwwrruggbguwgbbwugubwgrbbruuurgwurburrr', 'rgwbwrbbwrgbgbgbgbbbbuurbuwubrrurgrrurrgbuubbwurggr', 'rwuruuurrrurururbwggbrurwguurbrggbgrgwgurgr', 'wuwuruubuggrwbbggbgrgggrwwwurwwuwuubbrrbwubb', 'bwwgggrgbrwrbwggbgwubwgrwruwgubgwbwguwubbbugggrrbg', 'wwururrbwwbgwbwbuguurbgwggurbwbuwbuwbggururggrugr', 'wgwggwubrugrbbwbwbrwgbbrwbwwbgguwubgwuuuuwrbg', 'wrwurbgrugrwuubgrurwurrguurwubbgubrrwruwuwrbrgwuwbb', 'gurwrwbbbwgrwwggbgugwubrurbrwbwrruburgbrwuwgwgbuwgbwggg', 'bwgwwrgubggwrbbbbgugwugbwwbuwuwbrbwgrgggrguuururggw', 'wwugbrwbguuuubrwbwbwuwwrbburbubbwwrrgrruww', 'urbbbubbrugrburbuggwggurwbwbrwurruggbuggbuwggg', 'bubbgbgrwwwggbrbugwrrwbwrgbbrrubrwuwugrguwgrggbuurrgu', 'wgbburwbuurwwwgurggrwuubrrubwuuwbwgrwururggurrgbubwb', 'ubbwgrbbrggbbbwwuwgruguwwbrwwbwwrbgrbuugwrgwubbgwbbgbuggwg', 'gggruuwgrwubrbgwuwgwggrbbububbwrubbubwrbbuggr', 'brwwbugwwugrbguwwugugwrgwwrwwubgububugrbwgwb', 'wbgwubrgrbrwbggugwbbubgrgwbgbrwbwguugrrrwbrrwuu', 'wgbwgrgwwbggwwuwgbbuwwbgrbugrgwurbbbwwwrgurgbrrbww', 'bwwwbbrruubwbrgwbuuwwugubububgrwwbrbwbbwuruggr', 'bbrrbrrwbwuubwgggbbrwbruwwburrwwubrbbbburggrgugg', 'wuburgbrbwwrbbwrguwuwbruwrrrbgwgwuwrrurwwrgrgbwwrrwrwgbrr', 'wwrrububgurwrrgwrgbbbubrruwuugbuurbgugurggr', 'wgurwwbgrgrbwbrgrgwbruurbbubrwguwubggrrgubwubuugr', 'gubugwruwbwrgurwrwuwrggrbuuwuwgrrbgrwuwggwurbu', 'ggbbgbwuwwwgwrbbwuwubgwgruwugbubwrgubwugbwrrururgbgbururbw', 'wugrrrbbgrguuggwbugburwgrbgwguwwwgbbburruurwbbuur', 'ruwubbwbgbburrrgbbrggwrgbuwbrwguruwgrrgwggr', 'uwwuubugrrbrwbuguuguwbgrguuwrbgrwrggrbrugugugb', 'burwuruwwubbwwgurggbggbbrurwwwgwggruwbuggbrurwg', 'gbrgbgbbbwwgbwrwbugguuwgbrbbubwuuurggrurrwuwbbwub', 'rgburwrwrgbrbwrbgwrbbgwwbwgwrwwbgugwgubugurbguwgwrrurbuggr', 'wgubuwbubbuuwrbwbrwwwrgwbbbwbggwwubwburwrwwwwggr', 'uuugwbgguggbbgwwgrgurgrgwgwrwgwgurrbwwrgbrwrbr', 'bbwrugbgwwgwugrgwguwrrwrrwwuwrgrrgbgrurwbbgrrrrurbggr', 'brgbbwgwbbbgwgwbwrwwggurbubrruwrbbbggwuguwrugrgbwgruurrggr', 'bgwwwgruwwubrbrgubbgrrgugwuurguggubwbuwwwuuubrrgbbbbw', 'wwbugrgggrrguuugrbbgwwuubrruwrggwubrbbrwwugbgrggr', 'wgwgruwwgubgwwuwurgrwwwbugugurwwubbbuwwwrggwrruwggwwubuggr', 'bburubuuugbgwrugrwggbbrrruurrbwrggguubrrbbwggrwggwubu', 'wrwuwugbgugwgrbuurgbggwugrubbuuugwuwrrgbgbwuggb', 'ugruwrrwbuurbbubrrwbguurggwrgwbwwrguwrruuwbwguwbguwuwrwrrr', 'ruuburrrwrgugwrbrwgwwrggwuwgbbugbuwrubbwuw', 'wrbrburgrrrgrbbbbggwbrubgubgrguuwwwgwrrggwu', 'rbggugggwrubwwrrbrrububuwrubrugbgrgwurrgubrrg', 'buubbubwguuwuburbuuuruwbburwurwwbbrrgurruwbgrgwbuurru', 'wwbwbbuurwwggrwrrrgbugwrrgggrbwrbwubgwggr', 'gbrurbwbbgurwuwuwwubbrugruwwrwgwguwwgrgbrwbgruubwurgrbrggg', 'rwbguwrggwbbwbwgbbwwrrubrrbrbrgurgwgugggrgwgrbbwrgrrgrugu', 'brubguguwbubgruggggrwwubbrgbruwrwwurwggwruwrgwgwuwgubbg', 'bbgugrgubbwwrurrrrgrururruwwwbubgwrbgguuwgwwwwrgugbugwuwg', 'gugubguwgrrbwwububrrgggbrrrgbrbugrwrwuuggbwuwbbgwug', 'guurwgrwbgbbrbwurbrwbgwgrugwbbgwrwwwrbubgw', 'brrbbgwuruwuuuuwwwrggruurbgggbrwbwgrubbwgrwbrgwgwwrgg', 'wwugbwwrbbruwgwwgggugrwuruwgrggbrwrbwwguwgu', 'grrwbuuwuwgwrbgbbbggggwwrubuwwwrwuggrgbbbuuwwuuuwb', 'rbwwruggbbrgwwwrggugrbrbwwwwwbwbuurbrgburwr', 'wrgrgburbruwuuwrgururbbubbwwubuwwgwwubbuubgbugwrrbu', 'wwguguwrguburwwuugurbwbbwgrurwbugbwgurwgrgg', 'uwuwwwgubgbrruwwbrurwgruubuwuwuurrwurbrrrbwrwggr', 'wgruwugwugrgwurbwugbubwwrruuwwrbgwwugrwgrubwbrburbu', 'ubbrurbrgugwubwurbruruubwwbrbuwwgrrrwwubguurrgwwuwwrggr', 'urguugbrburubwbgrgggrgrrubwwggbrgurbruuugbuugggguggr', 'rwguuggwbgrgbbgurwrbbbrrwubbuwbuwubgwgwbbru', 'ruugbbggwbwrwubbgrwbbuwrwwurubbbbgwugguwuwrrwbwuggr', 'ugwburggrwgbgwrrgruwbbbgwurbururwbbgbgwrbrwbgrbbb', 'bbwwggruuwrbuggwggwuwwugubrbgwwbuwubgwbrrbrrgrbgurbrrw', 'rwbwrbwgwwugbbrurbrgrbgrgrugruwwuuubrrbbgwrrwuwbrubuwg', 'wburuwbrwrwugubwwbwwugwrbwububrgrrbuuurwwgguug', 'uwrrbrgwgwbbubwrugrwwwuuwugugbbbrwguuugrbgwgubwr', 'bugrgwbggrbggbbggbwbgwguwrbwgrbrguurgbububbgurwwbwrrwbwr', 'wubrwrrruuwubrgbbubrwggbwggurgwbuwuuwrgbwuwbrbrwrgubw', 'wbbbrgguugrrbwbuwburbrbwggguugruugwrbguuwbrgbrrgugub', 'rugrugrwrugruubburrguuwrrrrbwwgbgwggrrbrwbrbguwgbwrugwbw', 'wwugbwrbrgbubwgbgbbuurbgbuwrguruurgrggbwugrgbrgggwbgug', 'wgrgwruwbwuuwgubuurgrwwuwwugwrwwgwwgwrrggr', 'guugubrbgubgurbrugbrbggruwbbrururgrrbbuguugggwbgbwgb', 'wbbbggubrbwbwugwbbuwrbrrrwgurgugbwwrgrwwbbgwbwgbwugwbgbwbb', 'ubuwrruurbgrgrrrbwwbggbrugurrbwwwgbbgbburggr', 'ugrrrgbbubbguubguuurruuruugbrubggrugwgbwrrbgbubrgbrrbggr', 'brrbrwubuwgubgwrgwwwggrrggbrgurwwrgwuuurruurgbrwubwg', 'grbbwwbbwwrbrgbwubugbrrrrbrwwbgrgrwrrbugurbwgrbubbbbu', 'wbruwwwruurbwburubrguwwwruwwgubgbrguuuwbgb', 'rrgbugbbbrbbgurgrgrrruggwbwgwubwgrbgrggwbb', 'bwgwbuwrrbrwbuwwugrwwwuuurbbbggbbrwbbgwbwwggr', 'uburuwbuburuwbbwuruugrubwubwwuggrggrwgugwwubgbgbbw', 'ruurubrwrgbwrgwuruwubbwububwwbrgurgggbggwuw', 'urgrrrwbbwugbgrbgbbwbbbgbrrwbggubggubggbrbrbubrugrgb', 'uggwubgbgwggwuwbbuguubgwruuwwggwbwrugurwgrrubgrubbrr', 'wuwwuurwgubbbggbbbrubbrgruwwwurububgrggr', 'wgrugrgbgbuguuuubbuubbguggwbwwguwgrugwwbubgwuwrubg', 'gwguuwuuuwrurwrrggbrwwrruwbwuugbrwbubrbbbrg', 'buwrubrgurugrggrggugrwrwrgrbgguuurbuwuwbrugbruggwrgrbrw', 'wuurggbwwbgwgggrurbbgwrrbbwuugrurwwuwggwwgr', 'wurgbrbrurwugrbwbguwruwbrgrubrbbbbrrbguggr', 'wgwbwwwgugwbwrbubuubbugruuubbbwurugrrrbbwuwgrww', 'bwgbwwbruuuuwgbrrgrgbbwgrbbgwrgwgrwgrbguguww', 'wwruwubbbwwgbwrwrrbbbbuugggbbrurgbwuugwrwwwgwrrrruwggb', 'wuuwuwubgugurubggwwgbgrbrrgrgugrbrubguuurbbggwrbuuruuw', 'grururwbrbwrgburbgrbwbuuwbwgrurruwuwwurubbrgggruwgggrgg', 'rwuugggwbwrwrwgrrbbwrrwbbgbrwrgurbbbugubuugruwgruw', 'rgubggrggguwbuwbrurbrgbrbuwrwgbuguuwwbwrwbrurguwrrbuwguw', 'brggbbuubwbrrwrgbwwbbwuwrggubwwgwgbbgwwrwbr', 'gurgurbbbbugurgrwugbbrbrbwggwgrruggwbbrgbwrr', 'gubbwgruruugwwgbwurbugugbwubguwggruuurgbggurugww', 'ubbubrwrrbrrgbuwggrrwbgggruwrbgrugwwbbggrg', 'gbrwurubuubrrrbwwwwgrwguurrbgruwggbrgggugbbwr', 'ruugbgwgubgwugwrbrrrgrruurgwubbbbbbgbguggrgrwbbbbg', 'wrwbgubgugrurggbgbggrbgbgubgggbrwuwrbggburbrgwurwu', 'bwrbgruugbwbgbugwrbruwruuuubwugrrugbrwggubgwrguubbbrwrg', 'rwbrrbuwrgrwwuwwrgubuugbgurrubbbuuwbbgubbbrw', 'gurwwrgrgbggbbruururrrbwubwwbrubrrgugugbwuuuguubrb', 'uguwwububbugrbubuuuwwwbwgbbrrbbbbbbururrubwgrwrurbbbgrgb', 'ugbwwrgguwururbwgwugbgggbrbuwwurubwgrburwbrgrwggruu', 'wrurbbruwuuwwwwuubbbgggbrrbwuuwbubbgwrgbrwbrur', 'rgwrggbgwgrwwurubgrrrgubwggrrggwgrwrbbgbruggubugbubwbgwuwb', 'gggwbggguggwgggggbwwggwruwwwwubwgwgbgugrubggggguggr', 'ugurgrguubuggugwrgwbuuurwuwuwrrrrrbbggrrbwbuubwrrbwbwbur', 'rruggwgwbrbwrgrubrwurrwuwuwururwgruggrrwbugwwbugurubuwuwr', 'urgbbwrbwuwrgwrbwuwrururbugbbgrwbgurburbbuww', 'gbuwwuwwuwbbggruuruwrwwwugbrwbrbgbwwbrrbrugggrrwbgbgrggru', 'rgbwbguurbwrwbbugwwrrwbwruwwrgwrbgrugwwwbbwbggr', 'rbgrbbggbwbbwbururguuuggrubbubbgugbwuuggruwrwwurgggrugbbggr', 'uubgguwrwbrbwwubbgggbrrrgurburuwgrwgurwrubwwwgwwrbwwbgrwrr', 'bggwrwuwbuwwuugbgwgbwruuurruwrbgwrrwubgrwbgwwr', 'burrubwwugrgrgwbrurrrguggbgbbbrrwwuwugwrbrburggr', 'ubwguurwggugwuubbwgruuwrbwubgrwugwgguuggr', 'wgwuwwwrgrgurwurgbwrbgugbgugwwugurggwrwbggwuruw', 'rubgwuurwwbrbrrwubrrubrgrugwrwrwrbwuguugguruggurr', 'urbgrwgrbbwwrubwurgbgggbugubbrbbrwgubuwwgggbrwrgrgwbw', 'wguuwubugruwrurbwrrurgggwrbgrurbwuurbrubwbgurbgwbbubrrurgw', 'rrurbrwbrgwrbgugbrurbrrbrbgwwurbrrwugwgbgbrrubbrwrrbggu', 'wgrgbuuwbwbrubrgwuuugrgrrrrbugwwrugrbggbrrwggr', 'wguuurrrgbuuurwgububgrrbwrwwrwgguwrrrwbbbggbwwrwggr', 'uuwwbbbubruurggugwbwuwbggbgggubrwbgwbbwgrbrguwrw', 'gbggggbugbbrbruwruurwuwrurwgurggbwgwgggubgggbubrgbbbw', 'wwwrrrbuwrurgwgwgggwwurugggbbbgwurrrugrggr', 'bubbubruburgwggrbrugrwwuwwrwgwwbuurbrggrgwg', 'rgwwrgbwgwubwbrrrgruggggrbguwwbgrbwbrbrubuwuugrrgrrrbg', 'wwbguwgwuwuwbbrggruurwugbbggwuugwrwwrwrugwu', 'grwwurbugbbbwgwgwwbwguurrbrwrrbgbrrrwugwbggbg', 'bubbbwwbbgubwbwbgruwggrbbrwbbbbrrbbubwwrbrbbugbu', 'wurgrwugrwbrrrugrgwgrrwuwururwwubuwgbggwrrrwrwbwurgwguwg', 'wgwrrbuurrbwuburgrgbrrgbgurwrggwrrrurwwbuwrbbggr', 'ggrggrrgurrwrrrubguruwwurwbgubrgrwwbgbgbrgbbwgbwuggr', 'wwrgrgbbbgwburubwrrburwrurgbrgrbgrwgwgubgur', 'rrurrurbgwurbwrbbugrwbrbbrwgburrrwruurgrgrubrrwbrbbggr', 'gbubrwbbuuurwbrwggrwwgwwbgrubwgrbbbbgrwruwgwgwrbruruu', 'wgrbwbbwrbgurugbrbgrrgubruwbrrbwwbbugwggr', 'bubgrrwbwrwuburwwbgubrrrbbgwwubgrwwguwbbwburuurrwwbguuw', 'wggugwbwruguwrugrbwrrwwuwwwwwgubggrbrbwgrrwrwugr', 'rrrruurwrurbggwrgwgburggrbbwwgwbwubrwrrwgruwwgwurwwr', 'rbbugbuwurbwgbuurwgbuwrgubuuuwguuwurbwbbwuwbbrrgrugbw', 'wgrgguuuugrrrubggbrwwgbrrgwuwwbwurgbwgrwurrwwgruugbwbub', 'grwwwbwuwuburrugugrwwurgubgbrgggbbrrgbgrrggburgggwuuwrrwr', 'gbbrwwbrwuwubbrubguuwbbbbwbbgbwbuugwgwuubrwrwbwbbggggbbbrg', 'wuugrurwuwbubrwrrggwgbburubrbwubggbgbwrurbgw', 'bbuwgbuurbuurguwubrubugburrrwbggubrurbrgwrgbwr', 'rbwrururwbuubwgwbrbwbbbburbwwrbubrwrwgrrgwbrwwbbgwbg', 'rwurwwbggbuugwwuwbrgwwurbwgrgwbgrrggbugwgwubwrrbwwbugrggr', 'gwrwrbbwguwgugruugrguggrbrugrwruwwbgurwwwubwbbg', 'uugwuwwggrbbggbrbrbgrbrrugbwgubbrgururwbgwburwgwurru', 'rgrwruwwruwruggrbuggrrwbguugwuuuuwggwuwwrurgubrggwur', 'wgrubuuwggwgrwgrgwruubbubbrgurrrgwrggugbgbgugwb', 'buwwrubrrrwruwubggwwbwrrbgbubugbugbwrrbwwrgwwububwbggr', 'rwwrrwbuburwggbbwubgggruurgrgwrrwuwbgurwbwugbrbbwbrgrrgwr', 'wgwwugwggbuwwbwgwgrrwrwbuwwbgbbuuwurwwwwrgbbrbbgrbubrbbg', 'grgbgwwruwggwwrruwubwbwgrbrgugbubrbwgwrrwr', 'brbgwugbggguuwwwgburbguwbgurbrubbrugubrugwubwuuwuruurrrbu', 'rwuwurgrurbgurrwggbruggugurwgwbbwgwrwwbruwwwurgugurub', 'rburwgbwrbgwwguruburwguubrrgwwrgbrwggbgwbguwwbbwgrgrwuuw', 'rbrbbguwwwuubgwgbgrwrrggrbwggbubrgubrbrbwwgguwwggwwggr', 'ugruruggwguwubgrwrwbuwuwwuguguugrwbgrrbrggwwuugbbrwgwbg', 'wrgbugbbbwuwurbbwbbbrggwuggguwgbgugrgbrbuuwruurgwbbrwggr', 'wbrgwrgbwugbrwrbgrgrbgwrguruwrgwrbgurrugrbbbbgu', 'wuwbwurbrugruurrurwrggbuuruuuubbwbwurgbuubbbbwgbubrgbrbbgu', 'uggwrrubugburguwbbrbwbbrwgwwugwwgwwuwbrbbggr', 'wubbwruurbbbgwrbwurrwuwwgrgwwurbggwgugggbr', 'ugwbwgugbrwrrrrbrbugwgbbuuuuwbbrbguwrbrrgbrbgbuuwg', 'rururuwrbgugbugbbwrbguruubwgbubrrbubrbrwwww', 'guurbubrbbrubwgbuuuwwbrgbrwbgrruurgrbguuugbgbuwggbuwu', 'brubrrggruurwwwwwbbuggrrwggbguuurrwwgbbgwrbgwwrwwrwrwgbuu', 'wgbbwwwwbbwbrgbwugbbwuggrbwgubuuwgububguwrgrbgrbwrrwwbggg', 'urgbgrwwrgugbgwgwgrbuwrgwuwggrbgbugrgwwgwwbwbbrwuruwbb', 'ubwrwbbgwwwubuwrgggrwuwbwwgbubgrbgbrguruuwwbuwwgbgwbbb', 'uuruwgrwuwburbrwgrubuwgbbwurrwuurbgrbrurbgruruwb', 'wwbwbggurwwgwbgrwuwurwrwbuwuuuwugwwggwrugbu', 'ugwwurgrburwguwwuurggbwwgbguwrubbgrggurwwrwrwugbbggr', 'rwggburbrbrrrwrbubuuwgugbwuuubbgubbrggrbrgbugggwbr', 'bwbwgubbwgurwgrrwbuwrrgrwuwrggrgrrwbguuuwgwuwbrbggr', 'bwguuwgrbbuurrwrbbbgrbgwurwgbugbwwgubrbruuggbrwgrrgggu', 'wbwwwwugrwrbwbuburbugrgbrrgurubbbrgggbwubruw', 'wbbwuububrggbbrwbgwrwubgrgwburrgwrwwrugruwwrbg', 'grbbururuwburggbgguwguggbwuwwgubuwbwubrurbwu', 'rwrrwwbgbuuwrggbwubbbwrrwgwggugurrwguggwurguwrrurruwu', 'bbrrwuwgrrbrbbwgrbgrrwgbwburrruugurbuwbwrwwbgrggr', 'wwbruggrruwgrrgubruwbguwbgubbburrgrrwwgrbrurugbrbuggbrbub', 'guruwrururbgrgbrwuurwuurrrgggrwwguugrbggrbrbbrrwggr', 'rrrguwgbwbrwbgwwrgrgbrbbggwbgugrgbbwgbggrbbgbbwubw', 'gwbrugwwguuurwbugrugwgruruwgwrrururwrrgbbgrrwwugwrrwbrbbg', 'wugwurrubgrubbwgbgbgwwwggwbwgrubggggurwgwbubgbwwurb', 'rgwbrgrwruwgrbbbrrggwwbuurrrguubuggrgrurbrggb', 'bgggrrwruwuggrguwwwuwbgwrrubwggubgwwgggrbgwwwbgrrbuguggub', 'uruwugrrwwrgwuubwbrbwwuurbubwbwbbuwubrubuu', 'gbwwbbuuwuuuuggbugbuwrbrugrwggrbgguwrwubbwwugrb', 'ubrbggurgruugrugrrurrbgrwrgburruwwguuwwguwgruuwuwuwuurwrwggr', 'bgrwgbgwgwbwggwgbbrrwgbgwuguurrubbburuwwrbbu', 'uuugrrgwgguwwbwgrwrurrrbrrgggwugrburggwbgubggr', 'rrguwrwwbwwrugrwbrbrwwuuuwbrburrgbguuguggggwrwwwg', 'gugwwgwwrbrbrwbrugurrruwgbbbbuurwuggbrrgbbrbu', 'uggubwuwgububurrgwrgwubwgwgwwrrbgggugurgwuwurbuwbwbwb', 'brrugugrbugwwuurgbwrwwburbubgguguuuwgrgrwr', 'uguwurwrwbuwrbbbrwguggurbgbrwrugbwbrrgrwwrubwwbrrgg', 'grbrguruwurggrguggburwuwbwwwubbwwbubgrwrrbbrgwgguwru', 'wbggwubgrgrwrgbbuwrbrurgugbbrurbguwruwwbgbbrgrguu', 'gbgwrubwbwruwgbwbuwubrwrgbrwwrwwrwguwbgwrrugbuw', 'bugwruwwuruubuwbwbbbgrguuugbuubugwgbuuwgbwbgbgw', 'bburbrwrbubuubbrwuubbururgbrrggugguuurbbbwwwb', 'grugbuugrrrbgrbgugrwggrrrbwbbgbgrbgbwwgwgrgwbrrbrbrgru', 'ugrbwuurbrggrwrguwwwbguggbguwwwrbbwwrurrgrubwrbbwurb', 'rwgrrwrruubrgbuugrgugbwwruguwrbbuwrwgrwgbgbbgbbwgbr', 'rurrrbbbwrwgggurubgggwruwgwubbbbwbubgwrbuuuubrb', 'gwwwugrrguwwrwwrwwwuurbwwurwwrgwbrrrgbrrrrgbu', 'uuwbgwgubbrbubbwurbwwgubbbbbugbbuwgwwwbrrbrrrwur', 'wwbrubgwgrbbggwuwrurrrbubrwurwwbwggrbrrgggwgbbgwgbggg', 'wrguwruguwwgrbrwrbgwbwuubbubggubrwbgbrrgrggr', 'gubrwrgrbbguwwgbgbgrguggburggwbgbwuwuuuwbuubbwubrwurrrwrr', 'bbrgbrwgbwbwwwguwgwbrwuwgubgguurrbwubbwgbuwwwrggrrgr', 'wwwgugwuwwwubbbwgguuburbbbggburwbuugubrrugbbgruwr', 'rgrwbggubgguwwuwwwrrurrbruguwggguggbgrwwgubrbrrwrrwwrrrw', 'wuwurgwuburbbbgbrgwbbrbgururbggruuguwwrrrbguuug', 'uugbrgbgwuggrrwwwrbuwwbgrrwbbrrruuuugrgwgrbwwwguuubuubbu', 'brbgbbwggbwbrrurrrgugwbbwbrbuggwuurrurwubruruggwuuurrrgr', 'gbrgbwgggbruuwwwurwrrgwubrggbwrgurbgwurrwgrurgbugrurguuu', 'wbrgburguwrbbbuwbubbruugbrbuurwggburugbwugguwubrbguwwbg', 'wgwguguurbbwgrbgugubbuwbubururbgwwrguurbgrrrgb', 'rbrrgbbbrwbbrguububwuurgburuwwurwbgbbuggbrububugbururubrgu', 'wguguubugbgwurggwrrrugrwgurbuggbbbrwbgrwrgwuwbwruwrbgb', 'rgwwwwubbbgbruuggrurwbuwgbwgrbrubwggubbggr', 'rwwbggwrbwbrbbwbbuurbgbggrrrbgrwuwrrwrugwrgguwwuwb', 'urbwrgwgrgrwrbwrgwgbgwwbgrrrbbbrrrrbwrwrgrrwbg', 'wuuggrgguwbwbuurbuwwwwbbrwwrrwrggurbruggr', 'ruruwrburwwgugurguwurwugrwgbrrgrwrrbburburuubgbrgrwuggr', 'gruwrbrrguuruwwbbuuwgurgbwugwguruwbwbgrgugw', 'brwrgrgbbbwbwrgguuwbrrgruruwuwgbbgbbrgbwbr', 'rwbbgrwguruurrwwuggbwggbwgwubrbbburbgubbgb', 'wwgbbguwbwugrbwubrwugrwbbggubugrrwgugrgwuwgbubggr', 'gububbbbrwrbrrurrwwwruguwrurbbruubrurbubuug', 'ubwggwbrgbgwbwbrwbruwwbrrbburuugrruguguwwuggbbww', 'gbuuubbwgwwbbwuubguugbbwgbgubbrbwwwgrurugwwwwrr', 'ruwwgbwuuugbrgrwggwrbrwggbgwbugururwbubububbuugrwwwgbb', 'ubrwwurrggrwbrwbgugggbwgguwwgrubgbbwrrguugbrwgbbgrbwrg', 'gurwbgwbugwurwrruguuwwugbwruwruubbwbbuwurbbbuwbrwgbbwwwgbb', 'rgwurrbuwugurbwrrwuwgbrwbbbwubuwuwwbgwbbrggrg', 'ruwgwbbbwuwugwgrbgrbrbrwgwwggrgwwuruwgbruugggurwruuruwbgg', 'wgwuwrwrbrwruwggwbgrggrubbgrugubgbbwrrguuggr', 'wguwbbrruwwrggbrgwbbrwubrgwuubuwwwwrrrguwugrwrugbgggbwbu', 'ggbbbuuwgwbgwbwwwggbrwrggurrrbgwwugwubbggr', 'bgwbwbbwrbwubruugwrbrwgggrrgbbrbubuggubuwrurgbugrb', 'ruuruuwggbwbwrgbruguwgurwwrwwrgruwrgrbgwwggr', 'rwrgrgbbgubggrwbwrgbgrggbbbwbuuubwrgwrgwwuwwwruwgugbg', 'gbwbrbbwgurwrwuruwwwugugwrgrwbgrwrgwrgwgggbwwguwg', 'brrugwuubguurbbburuwbggwrbwuwuwurbggburwgrwurw', 'brbrbwuggubuwurruguuwruubgwbgurwugugwuwwwugugugwr', 'grrgrgbugrbgrgguggggrbgruuwbwbgrgbgbgbwrwubgubwwubwgu', 'brgruubwbuurugbbbwggbwbrrrrugrububgurrrgwrrbwgg', 'bbbwruuwwuuguwwubbbuuuuwbrrbbbwruwrrwbuwwuwr', 'uwguubwgugrbuwugbrrgrrwbwuwwbbrrwbguurbgbwgbbwgwbrrbb', 'rbbuurgrubuwgugubgbbbbwuuruwruwrbbrbgbbrubwbuwbwg', 'brubrrrbuwrrwbubwguwggrbggggbgubbwgrguurwrrrwggr', 'ubrrgubwuurubrgwbwgbbbwgbwgbruubrubwrguguguuuwwbgugbrgu', 'uwubrubuwbubwbggggrgwrwrwwwrwruubbwgrbbuwgrwrg', 'buwgwbuurrgrwrrwrurubbubrbrbbbgggrguugbgwurbugwubgu', 'gbugrrgwwuubrbrbururguburbbugbgwwbbbgbrgrurguurrrggbwgwrggr', 'gbruwgbgbbbgurgwwbbgbwwgbgbrwgubwbbubwbugg', 'wguugwbwrgguwrgbrrbggguwrugrggugbugbuugwwuw', 'uwrwbgubgggrrrgruwbgrbgwugugwwwuburgbwwguuwuruggr', 'urgrrwgwbrubgbggrruwrwuwbbburgggwugbgbgwwrwgwgrgurrrwggwrb', 'bbgbwgwubbbwwwwwguuwbrrrrurbuuuugguburugww', 'rrgwgggrubgbbwrrgrurgrubguwrggurbrgbguwwugw', 'wurwruwugrbrbbrbgbbwgbwbbbgwbugrurwwbwubruu', 'bruwrbggubwwwwrurbbbuwwrgbwbbbubuubgbggruwurrw', 'rgrwbbwwwwbrggrburgrubrguugubuuwuubgrbbwrrrbr', 'rguuwbuwbbwrbwwbwuurugrwwgrwrbuwwwwrwrrbggr', 'gubbgbbwbrrrwrwruwgrwgbbbwwbgrwwwggrbruwgrwbgbbggr', 'rwbwbugbbrwgbwgwgbburbgubuugrrrwwwubbrggbugb', 'gurrbuurrbgbgwrgbgggwgwbbuwbrrwrgurguggwwrwgbrgbugwgrrwggr', 'bbbbwbruwggrgbubrubwbbbbugbbbgrwurrbwgrgurwbuggr', 'gbbbuguubrbrbubruubbwwrrwbubgrgbbbgruwuwbbugwbgrgbuu', 'wugrwwbwrbggubrgubrwbwurubrbrbwgrwrbwrgguwbwwbggrugr', 'rrubwbuuggbuwuggbwggbbrrrrgbwgwbwgwugwrggr', 'uwguwbgwuruuuwrggrgggwrwugurgggubuurggrbuwrrbuwgruurbbg', 'wbwrwrgrgwbbrbggrwwubrgurggburbbrrgwubwwbw', 'rgbguuggrubbugwgggurubbbrwubrrbgbwbggbggrrbuubb', 'urggbugrwuwuurubbbbbgbrruuwwwguwubbrrgwgubbwrruwu', 'grbugwrrwurwgurbwbuwbwrbwbwurgwwugubgwbwbuw', 'urgrbrburbuwubbugbbubrwuwgwrubruuuwrbwbbbwrgbrwrr', 'rgguurbuugrwbbrgwrrurwgruwbggbwugguwuuwbgg', 'ugbbggburwguwbgugwbbgbbwgrgguwbgrrwwwwugrbrgwwrguggbrurgrggr', 'gurbbwwuwgwburugbrgrwwurbuuubwwbrrrbrrurbggurggr', 'rbuuruwbwbwgbbrurugbwbwugbwuuwwbrrgggwbrrwggurwubbrgrggr', 'ruggubwwbwbubuurwbgbbrbgwuggwgrbrrrwbrugrurggwwrggbgwruuggr', 'bubbrrbgwwwbbwwgwwrbrgbwwrgrbbuggbubrwgbruruuwugbggr', 'gwugrwgwgurrgurbrgguubrburgurwugugggurgwubrgwgubg', 'rbuurbuubggbwgwrbrgrgbrurbwrrrwwbbwburwbwurbgbwrrbggr', 'rbgubrrgwrwurwrgrgbbrrwbrurrrwwugugbbrwugrwbgbgguuuugw', 'ugrwwgbwrwrruggrgugbuuwbgwbbwwbrgwurgruwrwwrwrw', 'buuwgurbbggwrrgrurrwuwgrruwbbrubuuwgruguubrw', 'bgurugrbbbgrbugbwuwggruruuguwbbbwuwwbrugbgwrruwburbguur', 'gggrwbwuwrbgwbwrurwwwrbwggbbgbugwrgggggubgu', 'wrrbbuugrbbubgbwbwwrrguggrguwrwguruwrwguwrrg', 'rugbbbbuuuugbrrrgrbrgbwuwbruwbbrwbbwuwbggwubugggguguwbbwwggr', 'wgugwugwguugwwgugubbbrrggugwuruwrwbbgugwurgu', 'grwgugrggggbruurbwgwgwuururugbbrbwuurbbbrbbwrbuggbubwr']\n",
      "<class 'list'>\n"
     ]
    }
   ],
   "source": [
    "with open(\"aoc19.txt\", \"r\") as f:\n",
    "    data = f.read().splitlines()\n",
    "available_towels = data[0].split(\",\")\n",
    "print(available_towels)\n",
    "target_designs = data[2:]\n",
    "print(target_designs)\n",
    "print(type(available_towels))"
   ]
  },
  {
   "cell_type": "code",
   "execution_count": 33,
   "metadata": {},
   "outputs": [
    {
     "name": "stdout",
     "output_type": "stream",
     "text": [
      "['r', 'wr', 'b', 'g', 'bwu', 'rb', 'gb', 'br']\n",
      "['brwrr', 'bggr', 'gbbr', 'rrbgbr', 'ubwu', 'bwurrg', 'brgr', 'bbrgwb']\n"
     ]
    }
   ],
   "source": [
    "test_available_towels = \"r, wr, b, g, bwu, rb, gb, br\".split(\", \")\n",
    "test_target_designs = \"brwrr, bggr, gbbr, rrbgbr, ubwu, bwurrg, brgr, bbrgwb\".split(\", \")\n",
    "print(test_available_towels)\n",
    "print(test_target_designs)"
   ]
  },
  {
   "cell_type": "code",
   "execution_count": 55,
   "metadata": {},
   "outputs": [],
   "source": [
    "def possible_design(available_towels: list, target_design: str) -> bool:\n",
    "    def is_in(available_towels: list, target_design: str) -> bool:\n",
    "        for towel in available_towels:\n",
    "            if towel == target_design[:len(towel)]:\n",
    "                return True\n",
    "        return False\n",
    "    while is_in(available_towels, target_design):\n",
    "        for towel in available_towels:\n",
    "            if towel == target_design[:len(towel)]:\n",
    "                target_design = target_design[len(towel):]\n",
    "    if target_design == \"\":\n",
    "        return True\n",
    "    "
   ]
  },
  {
   "cell_type": "code",
   "execution_count": 56,
   "metadata": {},
   "outputs": [
    {
     "name": "stdout",
     "output_type": "stream",
     "text": [
      "5\n"
     ]
    }
   ],
   "source": [
    "test_possible_design = 0\n",
    "for design in test_target_designs:\n",
    "    if possible_design(test_available_towels, design):\n",
    "        test_possible_design += 1\n",
    "print(test_possible_design)"
   ]
  },
  {
   "cell_type": "code",
   "execution_count": 30,
   "metadata": {},
   "outputs": [
    {
     "name": "stdout",
     "output_type": "stream",
     "text": [
      "0\n"
     ]
    }
   ],
   "source": [
    "possible_designs = 0\n",
    "for target_design in target_designs:\n",
    "    if possible_design(available_towels, target_design):\n",
    "        possible_designs += 1\n",
    "print(possible_designs)"
   ]
  },
  {
   "cell_type": "code",
   "execution_count": 57,
   "metadata": {},
   "outputs": [
    {
     "name": "stdout",
     "output_type": "stream",
     "text": [
      "304\n"
     ]
    }
   ],
   "source": [
    "def can_construct_design(design, patterns):\n",
    "    dp = [False] * (len(design) + 1)\n",
    "    dp[0] = True  # Base case: empty design can always be constructed\n",
    "\n",
    "    for i in range(1, len(design) + 1):\n",
    "        for pattern in patterns:\n",
    "            if i >= len(pattern) and design[i - len(pattern):i] == pattern:\n",
    "                dp[i] = dp[i] or dp[i - len(pattern)]\n",
    "    \n",
    "    return dp[len(design)]\n",
    "\n",
    "def count_possible_designs(patterns, designs):\n",
    "    count = 0\n",
    "    for design in designs:\n",
    "        if can_construct_design(design, patterns):\n",
    "            count += 1\n",
    "    return count\n",
    "\n",
    "def main():\n",
    "    with open('/Users/shiweidong/Code/AoC2024/aoc19.txt') as f:\n",
    "        lines = f.read().strip().split('\\n')\n",
    "    \n",
    "    patterns = lines[0].split(', ')\n",
    "    designs = lines[2:]  # Skip the blank line\n",
    "    \n",
    "    result = count_possible_designs(patterns, designs)\n",
    "    print(result)\n",
    "\n",
    "if __name__ == \"__main__\":\n",
    "    main()"
   ]
  },
  {
   "cell_type": "code",
   "execution_count": 58,
   "metadata": {},
   "outputs": [
    {
     "name": "stdout",
     "output_type": "stream",
     "text": [
      "705756472327497\n"
     ]
    }
   ],
   "source": [
    "from functools import lru_cache\n",
    "\n",
    "def count_ways_to_construct(design, patterns):\n",
    "    @lru_cache(None)\n",
    "    def dp(i):\n",
    "        if i == 0:\n",
    "            return 1  # Base case: one way to construct an empty design\n",
    "        total_ways = 0\n",
    "        for pattern in patterns:\n",
    "            if i >= len(pattern) and design[i - len(pattern):i] == pattern:\n",
    "                total_ways += dp(i - len(pattern))\n",
    "        return total_ways\n",
    "\n",
    "    return dp(len(design))\n",
    "\n",
    "def total_ways_for_all_designs(patterns, designs):\n",
    "    total_ways = 0\n",
    "    for design in designs:\n",
    "        total_ways += count_ways_to_construct(design, tuple(patterns))\n",
    "    return total_ways\n",
    "\n",
    "def main():\n",
    "    with open('/Users/shiweidong/Code/AoC2024/aoc19.txt') as f:\n",
    "        lines = f.read().strip().split('\\n')\n",
    "    \n",
    "    patterns = lines[0].split(', ')\n",
    "    designs = lines[2:]  # Skip the blank line\n",
    "    \n",
    "    result = total_ways_for_all_designs(patterns, designs)\n",
    "    print(result)\n",
    "\n",
    "if __name__ == \"__main__\":\n",
    "    main()"
   ]
  },
  {
   "cell_type": "code",
   "execution_count": null,
   "metadata": {},
   "outputs": [],
   "source": []
  }
 ],
 "metadata": {
  "kernelspec": {
   "display_name": ".conda",
   "language": "python",
   "name": "python3"
  },
  "language_info": {
   "codemirror_mode": {
    "name": "ipython",
    "version": 3
   },
   "file_extension": ".py",
   "mimetype": "text/x-python",
   "name": "python",
   "nbconvert_exporter": "python",
   "pygments_lexer": "ipython3",
   "version": "3.11.10"
  }
 },
 "nbformat": 4,
 "nbformat_minor": 2
}
