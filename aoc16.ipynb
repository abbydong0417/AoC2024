{
 "cells": [
  {
   "cell_type": "code",
   "execution_count": 2,
   "metadata": {},
   "outputs": [
    {
     "name": "stdout",
     "output_type": "stream",
     "text": [
      "The lowest score a Reindeer could possibly get is: 160624\n"
     ]
    }
   ],
   "source": [
    "import heapq\n",
    "\n",
    "# Directions: (dx, dy, direction)\n",
    "DIRECTIONS = [\n",
    "    (0, 1, 'E'),  # East\n",
    "    (1, 0, 'S'),  # South\n",
    "    (0, -1, 'W'), # West\n",
    "    (-1, 0, 'N')  # North\n",
    "]\n",
    "\n",
    "def parse_input(file_path):\n",
    "    with open(file_path, 'r') as file:\n",
    "        maze = [list(line.strip()) for line in file.readlines()]\n",
    "    return maze\n",
    "\n",
    "def find_start_end(maze):\n",
    "    start = end = None\n",
    "    for i, row in enumerate(maze):\n",
    "        for j, cell in enumerate(row):\n",
    "            if cell == 'S':\n",
    "                start = (i, j)\n",
    "            elif cell == 'E':\n",
    "                end = (i, j)\n",
    "    return start, end\n",
    "\n",
    "def bfs(maze, start, end):\n",
    "    rows, cols = len(maze), len(maze[0])\n",
    "    start_state = (0, start[0], start[1], 'E')  # (score, x, y, direction)\n",
    "    pq = [start_state]\n",
    "    visited = set()\n",
    "    visited.add((start[0], start[1], 'E'))\n",
    "\n",
    "    direction_map = {d[2]: i for i, d in enumerate(DIRECTIONS)}\n",
    "\n",
    "    while pq:\n",
    "        score, x, y, direction = heapq.heappop(pq)\n",
    "\n",
    "        if (x, y) == end:\n",
    "            return score\n",
    "\n",
    "        # Move forward\n",
    "        dx, dy, _ = DIRECTIONS[direction_map[direction]]\n",
    "        nx, ny = x + dx, y + dy\n",
    "        if 0 <= nx < rows and 0 <= ny < cols and maze[nx][ny] != '#':\n",
    "            if (nx, ny, direction) not in visited:\n",
    "                visited.add((nx, ny, direction))\n",
    "                heapq.heappush(pq, (score + 1, nx, ny, direction))\n",
    "\n",
    "        # Rotate clockwise\n",
    "        new_direction = DIRECTIONS[(direction_map[direction] + 1) % 4][2]\n",
    "        if (x, y, new_direction) not in visited:\n",
    "            visited.add((x, y, new_direction))\n",
    "            heapq.heappush(pq, (score + 1000, x, y, new_direction))\n",
    "\n",
    "        # Rotate counterclockwise\n",
    "        new_direction = DIRECTIONS[(direction_map[direction] - 1) % 4][2]\n",
    "        if (x, y, new_direction) not in visited:\n",
    "            visited.add((x, y, new_direction))\n",
    "            heapq.heappush(pq, (score + 1000, x, y, new_direction))\n",
    "\n",
    "    return float('inf')\n",
    "\n",
    "def main():\n",
    "    maze = parse_input('aoc16.txt')\n",
    "    start, end = find_start_end(maze)\n",
    "    result = bfs(maze, start, end)\n",
    "    print(f\"The lowest score a Reindeer could possibly get is: {result}\")\n",
    "\n",
    "if __name__ == \"__main__\":\n",
    "    main()"
   ]
  },
  {
   "cell_type": "code",
   "execution_count": null,
   "metadata": {},
   "outputs": [],
   "source": []
  }
 ],
 "metadata": {
  "kernelspec": {
   "display_name": ".conda",
   "language": "python",
   "name": "python3"
  },
  "language_info": {
   "codemirror_mode": {
    "name": "ipython",
    "version": 3
   },
   "file_extension": ".py",
   "mimetype": "text/x-python",
   "name": "python",
   "nbconvert_exporter": "python",
   "pygments_lexer": "ipython3",
   "version": "3.11.10"
  }
 },
 "nbformat": 4,
 "nbformat_minor": 2
}
