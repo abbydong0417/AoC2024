{
 "cells": [
  {
   "cell_type": "code",
   "execution_count": 5,
   "metadata": {},
   "outputs": [],
   "source": [
    "import pandas as pd"
   ]
  },
  {
   "cell_type": "code",
   "execution_count": 6,
   "metadata": {},
   "outputs": [],
   "source": [
    "data=pd.read_csv('aoc2.txt', header=None, sep=' ')"
   ]
  },
  {
   "cell_type": "code",
   "execution_count": 7,
   "metadata": {},
   "outputs": [
    {
     "data": {
      "text/html": [
       "<div>\n",
       "<style scoped>\n",
       "    .dataframe tbody tr th:only-of-type {\n",
       "        vertical-align: middle;\n",
       "    }\n",
       "\n",
       "    .dataframe tbody tr th {\n",
       "        vertical-align: top;\n",
       "    }\n",
       "\n",
       "    .dataframe thead th {\n",
       "        text-align: right;\n",
       "    }\n",
       "</style>\n",
       "<table border=\"1\" class=\"dataframe\">\n",
       "  <thead>\n",
       "    <tr style=\"text-align: right;\">\n",
       "      <th></th>\n",
       "      <th>0</th>\n",
       "      <th>1</th>\n",
       "      <th>2</th>\n",
       "      <th>3</th>\n",
       "      <th>4</th>\n",
       "      <th>5</th>\n",
       "      <th>6</th>\n",
       "      <th>7</th>\n",
       "    </tr>\n",
       "  </thead>\n",
       "  <tbody>\n",
       "    <tr>\n",
       "      <th>0</th>\n",
       "      <td>6</td>\n",
       "      <td>8</td>\n",
       "      <td>11</td>\n",
       "      <td>12</td>\n",
       "      <td>14</td>\n",
       "      <td>16.0</td>\n",
       "      <td>18.0</td>\n",
       "      <td>16.0</td>\n",
       "    </tr>\n",
       "    <tr>\n",
       "      <th>1</th>\n",
       "      <td>73</td>\n",
       "      <td>76</td>\n",
       "      <td>79</td>\n",
       "      <td>80</td>\n",
       "      <td>81</td>\n",
       "      <td>84.0</td>\n",
       "      <td>86.0</td>\n",
       "      <td>86.0</td>\n",
       "    </tr>\n",
       "    <tr>\n",
       "      <th>2</th>\n",
       "      <td>32</td>\n",
       "      <td>33</td>\n",
       "      <td>34</td>\n",
       "      <td>37</td>\n",
       "      <td>40</td>\n",
       "      <td>44.0</td>\n",
       "      <td>NaN</td>\n",
       "      <td>NaN</td>\n",
       "    </tr>\n",
       "    <tr>\n",
       "      <th>3</th>\n",
       "      <td>9</td>\n",
       "      <td>11</td>\n",
       "      <td>13</td>\n",
       "      <td>14</td>\n",
       "      <td>17</td>\n",
       "      <td>24.0</td>\n",
       "      <td>NaN</td>\n",
       "      <td>NaN</td>\n",
       "    </tr>\n",
       "    <tr>\n",
       "      <th>4</th>\n",
       "      <td>59</td>\n",
       "      <td>61</td>\n",
       "      <td>64</td>\n",
       "      <td>62</td>\n",
       "      <td>65</td>\n",
       "      <td>NaN</td>\n",
       "      <td>NaN</td>\n",
       "      <td>NaN</td>\n",
       "    </tr>\n",
       "  </tbody>\n",
       "</table>\n",
       "</div>"
      ],
      "text/plain": [
       "    0   1   2   3   4     5     6     7\n",
       "0   6   8  11  12  14  16.0  18.0  16.0\n",
       "1  73  76  79  80  81  84.0  86.0  86.0\n",
       "2  32  33  34  37  40  44.0   NaN   NaN\n",
       "3   9  11  13  14  17  24.0   NaN   NaN\n",
       "4  59  61  64  62  65   NaN   NaN   NaN"
      ]
     },
     "execution_count": 7,
     "metadata": {},
     "output_type": "execute_result"
    }
   ],
   "source": [
    "data.head()"
   ]
  },
  {
   "cell_type": "code",
   "execution_count": 8,
   "metadata": {},
   "outputs": [
    {
     "name": "stdout",
     "output_type": "stream",
     "text": [
      "['6 8 11 12 14 16 18 16\\n', '73 76 79 80 81 84 86 86\\n', '32 33 34 37 40 44\\n', '9 11 13 14 17 24\\n', '59 61 64 62 65\\n']\n"
     ]
    }
   ],
   "source": [
    "with open('aoc2.txt', 'r') as file:\n",
    "    lines = file.readlines()\n",
    "\n",
    "print(lines[:5])  # Print the first 5 lines to check"
   ]
  },
  {
   "cell_type": "code",
   "execution_count": 11,
   "metadata": {},
   "outputs": [
    {
     "name": "stdout",
     "output_type": "stream",
     "text": [
      "[[6, 8, 11, 12, 14, 16, 18, 16], [73, 76, 79, 80, 81, 84, 86, 86], [32, 33, 34, 37, 40, 44], [9, 11, 13, 14, 17, 24], [59, 61, 64, 62, 65]]\n"
     ]
    }
   ],
   "source": [
    "number_list = []\n",
    "for line in lines:\n",
    "    new_line=[int(x) for x in line.replace('\\n', '').split(' ')]\n",
    "    number_list.append(new_line)\n",
    "print(number_list[:5])"
   ]
  },
  {
   "cell_type": "code",
   "execution_count": 12,
   "metadata": {},
   "outputs": [
    {
     "name": "stdout",
     "output_type": "stream",
     "text": [
      "[False, False, False, False, False]\n"
     ]
    }
   ],
   "source": [
    "def verify_number_list(number_list):\n",
    "    def is_increasing_or_decreasing(lst):\n",
    "        return all(x < y for x, y in zip(lst, lst[1:])) or all(x > y for x, y in zip(lst, lst[1:]))\n",
    "\n",
    "    def adjacent_difference_within_range(lst):\n",
    "        return all(1 <= abs(x - y) <= 3 for x, y in zip(lst, lst[1:]))\n",
    "\n",
    "    results = []\n",
    "    for element in number_list:\n",
    "        if is_increasing_or_decreasing(element) and adjacent_difference_within_range(element):\n",
    "            results.append(True)\n",
    "        else:\n",
    "            results.append(False)\n",
    "    return results\n",
    "\n",
    "verification_results = verify_number_list(number_list)\n",
    "print(verification_results[:5])  # Print the first 5 results to check"
   ]
  },
  {
   "cell_type": "code",
   "execution_count": 13,
   "metadata": {},
   "outputs": [
    {
     "name": "stdout",
     "output_type": "stream",
     "text": [
      "442\n"
     ]
    }
   ],
   "source": [
    "print(sum(verification_results))  # Print the number of valid lists"
   ]
  },
  {
   "cell_type": "code",
   "execution_count": 14,
   "metadata": {},
   "outputs": [
    {
     "name": "stdout",
     "output_type": "stream",
     "text": [
      "[True, True, True, True, True]\n",
      "493\n"
     ]
    }
   ],
   "source": [
    "def verify_number_list_with_removal(number_list):\n",
    "    def is_increasing_or_decreasing(lst):\n",
    "        return all(x < y for x, y in zip(lst, lst[1:])) or all(x > y for x, y in zip(lst, lst[1:]))\n",
    "\n",
    "    def adjacent_difference_within_range(lst):\n",
    "        return all(1 <= abs(x - y) <= 3 for x, y in zip(lst, lst[1:]))\n",
    "\n",
    "    def can_be_fixed_by_removal(lst):\n",
    "        for i in range(len(lst)):\n",
    "            new_lst = lst[:i] + lst[i+1:]\n",
    "            if is_increasing_or_decreasing(new_lst) and adjacent_difference_within_range(new_lst):\n",
    "                return True\n",
    "        return False\n",
    "\n",
    "    results = []\n",
    "    for element in number_list:\n",
    "        if is_increasing_or_decreasing(element) and adjacent_difference_within_range(element):\n",
    "            results.append(True)\n",
    "        elif can_be_fixed_by_removal(element):\n",
    "            results.append(True)\n",
    "        else:\n",
    "            results.append(False)\n",
    "    return results\n",
    "\n",
    "verification_results_with_removal = verify_number_list_with_removal(number_list)\n",
    "print(verification_results_with_removal[:5])  # Print the first 5 results to check\n",
    "print(sum(verification_results_with_removal))  # Print the number of valid lists"
   ]
  },
  {
   "cell_type": "code",
   "execution_count": 15,
   "metadata": {},
   "outputs": [
    {
     "name": "stdout",
     "output_type": "stream",
     "text": [
      "[True, True, True, True, True]\n",
      "493\n"
     ]
    }
   ],
   "source": [
    "def verify_number_list_with_removal_optimized(number_list):\n",
    "    def is_increasing_or_decreasing_and_within_range(lst):\n",
    "        increasing = decreasing = True\n",
    "        for x, y in zip(lst, lst[1:]):\n",
    "            if not (1 <= abs(x - y) <= 3):\n",
    "                return False, False\n",
    "            if x >= y:\n",
    "                increasing = False\n",
    "            if x <= y:\n",
    "                decreasing = False\n",
    "        return increasing or decreasing, True\n",
    "\n",
    "    def can_be_fixed_by_removal(lst):\n",
    "        for i in range(len(lst)):\n",
    "            new_lst = lst[:i] + lst[i+1:]\n",
    "            is_ordered, within_range = is_increasing_or_decreasing_and_within_range(new_lst)\n",
    "            if is_ordered and within_range:\n",
    "                return True\n",
    "        return False\n",
    "\n",
    "    results = []\n",
    "    for element in number_list:\n",
    "        is_ordered, within_range = is_increasing_or_decreasing_and_within_range(element)\n",
    "        if is_ordered and within_range:\n",
    "            results.append(True)\n",
    "        elif can_be_fixed_by_removal(element):\n",
    "            results.append(True)\n",
    "        else:\n",
    "            results.append(False)\n",
    "    return results\n",
    "\n",
    "verification_results_with_removal_optimized = verify_number_list_with_removal_optimized(number_list)\n",
    "print(verification_results_with_removal_optimized[:5])  # Print the first 5 results to check\n",
    "print(sum(verification_results_with_removal_optimized))  # Print the number of valid lists"
   ]
  }
 ],
 "metadata": {
  "kernelspec": {
   "display_name": "Python 3",
   "language": "python",
   "name": "python3"
  },
  "language_info": {
   "codemirror_mode": {
    "name": "ipython",
    "version": 3
   },
   "file_extension": ".py",
   "mimetype": "text/x-python",
   "name": "python",
   "nbconvert_exporter": "python",
   "pygments_lexer": "ipython3",
   "version": "3.11.10"
  }
 },
 "nbformat": 4,
 "nbformat_minor": 2
}
