{
 "cells": [
  {
   "cell_type": "code",
   "execution_count": 1,
   "metadata": {},
   "outputs": [],
   "source": [
    "with open(\"aoc9.txt\", \"r\") as file:\n",
    "    input_line = file.readline().strip()"
   ]
  },
  {
   "cell_type": "code",
   "execution_count": 4,
   "metadata": {},
   "outputs": [
    {
     "data": {
      "text/plain": [
       "'3'"
      ]
     },
     "execution_count": 4,
     "metadata": {},
     "output_type": "execute_result"
    }
   ],
   "source": [
    "input_line[-1]"
   ]
  },
  {
   "cell_type": "code",
   "execution_count": 6,
   "metadata": {},
   "outputs": [],
   "source": [
    "# Function to convert the input string to the id list with spaces.\n",
    "# Numbers in odd postions are IDs (n//2) and numbers in even positions are spaces (None).\n",
    "def convert_to_list(input):\n",
    "    id_list = []\n",
    "    for n in range(len(input)):\n",
    "        if n % 2 == 0:\n",
    "            id = n // 2\n",
    "            id_list.extend([id] * int(input[n]))\n",
    "        else:\n",
    "            id_list.extend([None] * int(input[n]))\n",
    "    return id_list"
   ]
  },
  {
   "cell_type": "code",
   "execution_count": 10,
   "metadata": {},
   "outputs": [
    {
     "data": {
      "text/plain": [
       "[0,\n",
       " 0,\n",
       " None,\n",
       " None,\n",
       " None,\n",
       " 1,\n",
       " 1,\n",
       " 1,\n",
       " None,\n",
       " None,\n",
       " None,\n",
       " 2,\n",
       " None,\n",
       " None,\n",
       " None,\n",
       " 3,\n",
       " 3,\n",
       " 3,\n",
       " None,\n",
       " 4,\n",
       " 4,\n",
       " None,\n",
       " 5,\n",
       " 5,\n",
       " 5,\n",
       " 5,\n",
       " None,\n",
       " 6,\n",
       " 6,\n",
       " 6,\n",
       " 6,\n",
       " None,\n",
       " 7,\n",
       " 7,\n",
       " 7,\n",
       " None,\n",
       " 8,\n",
       " 8,\n",
       " 8,\n",
       " 8,\n",
       " 9,\n",
       " 9]"
      ]
     },
     "execution_count": 10,
     "metadata": {},
     "output_type": "execute_result"
    }
   ],
   "source": [
    "test_input = \"2333133121414131402\"\n",
    "test_list = convert_to_list(test_input)\n",
    "test_list"
   ]
  },
  {
   "cell_type": "code",
   "execution_count": 8,
   "metadata": {},
   "outputs": [
    {
     "data": {
      "text/plain": [
       "[0, None, None, 1, 1, 1, None, None, None, None, 2, 2, 2, 2, 2]"
      ]
     },
     "execution_count": 8,
     "metadata": {},
     "output_type": "execute_result"
    }
   ],
   "source": [
    "test_list"
   ]
  },
  {
   "cell_type": "code",
   "execution_count": 50,
   "metadata": {},
   "outputs": [],
   "source": [
    "# Function to change the position of the last id with the first None.\n",
    "\n",
    "def move_marble(id_list):\n",
    "    last_marble = id_list.pop()\n",
    "    for n in range(len(id_list)):\n",
    "        if id_list[n] == None:\n",
    "            id_list[n] = last_marble\n",
    "            id_list.append(None)\n",
    "            return id_list\n",
    "\n",
    "\n"
   ]
  },
  {
   "cell_type": "code",
   "execution_count": 51,
   "metadata": {},
   "outputs": [],
   "source": [
    "id_list = convert_to_list(\"12345\")"
   ]
  },
  {
   "cell_type": "code",
   "execution_count": 52,
   "metadata": {},
   "outputs": [
    {
     "data": {
      "text/plain": [
       "[0, None, None, 1, 1, 1, None, None, None, None, 2, 2, 2, 2, 2]"
      ]
     },
     "execution_count": 52,
     "metadata": {},
     "output_type": "execute_result"
    }
   ],
   "source": [
    "id_list"
   ]
  },
  {
   "cell_type": "code",
   "execution_count": null,
   "metadata": {},
   "outputs": [],
   "source": [
    "def find_last_non_none(lst):\n",
    "    for i in range(len(lst) - 1, -1, -1):\n",
    "        if lst[i] is not None:\n",
    "            return i\n",
    "    return -1  # Return -1 if no non-None element is found"
   ]
  },
  {
   "cell_type": "code",
   "execution_count": 55,
   "metadata": {},
   "outputs": [],
   "source": [
    "# Function to swap the first None with the last id.\n",
    "def move_marble(id_list):\n",
    "    last_marble = id_list.pop(find_last_non_none(id_list))\n",
    "    for n in range(len(id_list)):\n",
    "        if id_list[n] == None:\n",
    "            id_list[n] = last_marble\n",
    "            id_list.append(None)\n",
    "            return id_list"
   ]
  },
  {
   "cell_type": "code",
   "execution_count": 57,
   "metadata": {},
   "outputs": [],
   "source": [
    "id_list = convert_to_list(\"12345\")"
   ]
  },
  {
   "cell_type": "code",
   "execution_count": 58,
   "metadata": {},
   "outputs": [
    {
     "data": {
      "text/plain": [
       "[0, 2, 2, 1, 1, 1, None, None, None, None, 2, 2, 2, None, None]"
      ]
     },
     "execution_count": 58,
     "metadata": {},
     "output_type": "execute_result"
    }
   ],
   "source": [
    "move_marble(move_marble(id_list))"
   ]
  },
  {
   "cell_type": "code",
   "execution_count": 59,
   "metadata": {},
   "outputs": [],
   "source": [
    "# Repeat the move_marble function until the list is sorted without None between ids.\n",
    "def sort_marbles(id_list):\n",
    "    # Find the first None and the last ID.\n",
    "    first_none = id_list.index(None)\n",
    "    while find_last_non_none(id_list) > first_none:\n",
    "        id_list = move_marble(id_list)\n",
    "        first_none = id_list.index(None)\n",
    "    return id_list\n",
    "\n"
   ]
  },
  {
   "cell_type": "code",
   "execution_count": 60,
   "metadata": {},
   "outputs": [],
   "source": [
    "test_input=\"12345\""
   ]
  },
  {
   "cell_type": "code",
   "execution_count": 61,
   "metadata": {},
   "outputs": [
    {
     "data": {
      "text/plain": [
       "[0, 2, 2, 1, 1, 1, 2, 2, 2, None, None, None, None, None, None]"
      ]
     },
     "execution_count": 61,
     "metadata": {},
     "output_type": "execute_result"
    }
   ],
   "source": [
    "sort_marbles(convert_to_list(test_input))"
   ]
  },
  {
   "cell_type": "code",
   "execution_count": 62,
   "metadata": {},
   "outputs": [],
   "source": [
    "test_input=\"2333133121414131402\""
   ]
  },
  {
   "cell_type": "code",
   "execution_count": 66,
   "metadata": {},
   "outputs": [
    {
     "data": {
      "text/plain": [
       "[0,\n",
       " 0,\n",
       " 9,\n",
       " 9,\n",
       " 8,\n",
       " 1,\n",
       " 1,\n",
       " 1,\n",
       " 8,\n",
       " 8,\n",
       " 8,\n",
       " 2,\n",
       " 7,\n",
       " 7,\n",
       " 7,\n",
       " 3,\n",
       " 3,\n",
       " 3,\n",
       " 6,\n",
       " 4,\n",
       " 4,\n",
       " 6,\n",
       " 5,\n",
       " 5,\n",
       " 5,\n",
       " 5,\n",
       " 6,\n",
       " 6,\n",
       " None,\n",
       " None,\n",
       " None,\n",
       " None,\n",
       " None,\n",
       " None,\n",
       " None,\n",
       " None,\n",
       " None,\n",
       " None,\n",
       " None,\n",
       " None,\n",
       " None,\n",
       " None]"
      ]
     },
     "execution_count": 66,
     "metadata": {},
     "output_type": "execute_result"
    }
   ],
   "source": [
    "sort_marbles(convert_to_list(test_input))"
   ]
  },
  {
   "cell_type": "code",
   "execution_count": 67,
   "metadata": {},
   "outputs": [],
   "source": [
    "def check_sum(lst):\n",
    "    sum = 0\n",
    "    for i in range(len(lst)):\n",
    "        if lst[i] is not None:\n",
    "            sum += lst[i] * i \n",
    "    return sum"
   ]
  },
  {
   "cell_type": "code",
   "execution_count": 68,
   "metadata": {},
   "outputs": [
    {
     "data": {
      "text/plain": [
       "1928"
      ]
     },
     "execution_count": 68,
     "metadata": {},
     "output_type": "execute_result"
    }
   ],
   "source": [
    "check_sum(sort_marbles(convert_to_list(test_input)))"
   ]
  },
  {
   "cell_type": "code",
   "execution_count": 69,
   "metadata": {},
   "outputs": [
    {
     "data": {
      "text/plain": [
       "6201130364722"
      ]
     },
     "execution_count": 69,
     "metadata": {},
     "output_type": "execute_result"
    }
   ],
   "source": [
    "check_sum(sort_marbles(convert_to_list(input_line)))"
   ]
  },
  {
   "cell_type": "code",
   "execution_count": null,
   "metadata": {},
   "outputs": [],
   "source": []
  }
 ],
 "metadata": {
  "kernelspec": {
   "display_name": ".conda",
   "language": "python",
   "name": "python3"
  },
  "language_info": {
   "codemirror_mode": {
    "name": "ipython",
    "version": 3
   },
   "file_extension": ".py",
   "mimetype": "text/x-python",
   "name": "python",
   "nbconvert_exporter": "python",
   "pygments_lexer": "ipython3",
   "version": "3.11.10"
  }
 },
 "nbformat": 4,
 "nbformat_minor": 2
}
