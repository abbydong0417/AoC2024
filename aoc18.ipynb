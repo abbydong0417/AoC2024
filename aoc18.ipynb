{
 "cells": [
  {
   "cell_type": "code",
   "execution_count": 1,
   "metadata": {},
   "outputs": [
    {
     "name": "stdout",
     "output_type": "stream",
     "text": [
      "The minimum number of steps needed to reach the exit is: 302\n"
     ]
    }
   ],
   "source": [
    "from collections import deque\n",
    "\n",
    "# Read the input file and parse the coordinates\n",
    "with open('aoc18.txt') as f:\n",
    "    lines = f.read().splitlines()\n",
    "    bytes_positions = [tuple(map(int, line.split(','))) for line in lines]\n",
    "\n",
    "# Initialize the grid\n",
    "grid_size = 71\n",
    "grid = [['.' for _ in range(grid_size)] for _ in range(grid_size)]\n",
    "\n",
    "# Mark the corrupted coordinates\n",
    "for i in range(1024):\n",
    "    x, y = bytes_positions[i]\n",
    "    grid[y][x] = '#'\n",
    "\n",
    "# Define the directions for moving: up, down, left, right\n",
    "directions = [(-1, 0), (1, 0), (0, -1), (0, 1)]\n",
    "\n",
    "# BFS to find the shortest path\n",
    "def bfs(start, end, grid):\n",
    "    queue = deque([start])\n",
    "    visited = set()\n",
    "    visited.add(start)\n",
    "    steps = 0\n",
    "\n",
    "    while queue:\n",
    "        for _ in range(len(queue)):\n",
    "            x, y = queue.popleft()\n",
    "            if (x, y) == end:\n",
    "                return steps\n",
    "            for dx, dy in directions:\n",
    "                nx, ny = x + dx, y + dy\n",
    "                if 0 <= nx < grid_size and 0 <= ny < grid_size and (nx, ny) not in visited and grid[ny][nx] == '.':\n",
    "                    visited.add((nx, ny))\n",
    "                    queue.append((nx, ny))\n",
    "        steps += 1\n",
    "    return -1  # If no path is found\n",
    "\n",
    "# Start and end coordinates\n",
    "start = (0, 0)\n",
    "end = (70, 70)\n",
    "\n",
    "# Find the shortest path\n",
    "min_steps = bfs(start, end, grid)\n",
    "print(f\"The minimum number of steps needed to reach the exit is: {min_steps}\")"
   ]
  },
  {
   "cell_type": "code",
   "execution_count": 2,
   "metadata": {},
   "outputs": [
    {
     "name": "stdout",
     "output_type": "stream",
     "text": [
      "24,32\n"
     ]
    }
   ],
   "source": [
    "from collections import deque\n",
    "\n",
    "# Read the input file and parse the coordinates\n",
    "with open('aoc18.txt') as f:\n",
    "    lines = f.read().splitlines()\n",
    "    bytes_positions = [tuple(map(int, line.split(','))) for line in lines]\n",
    "\n",
    "# Initialize the grid\n",
    "grid_size = 71\n",
    "grid = [['.' for _ in range(grid_size)] for _ in range(grid_size)]\n",
    "\n",
    "# Define the directions for moving: up, down, left, right\n",
    "directions = [(-1, 0), (1, 0), (0, -1), (0, 1)]\n",
    "\n",
    "# BFS to check if there is a path from start to end\n",
    "def bfs(start, end, grid):\n",
    "    queue = deque([start])\n",
    "    visited = set()\n",
    "    visited.add(start)\n",
    "\n",
    "    while queue:\n",
    "        x, y = queue.popleft()\n",
    "        if (x, y) == end:\n",
    "            return True\n",
    "        for dx, dy in directions:\n",
    "            nx, ny = x + dx, y + dy\n",
    "            if 0 <= nx < grid_size and 0 <= ny < grid_size and (nx, ny) not in visited and grid[ny][nx] == '.':\n",
    "                visited.add((nx, ny))\n",
    "                queue.append((nx, ny))\n",
    "    return False\n",
    "\n",
    "# Start and end coordinates\n",
    "start = (0, 0)\n",
    "end = (70, 70)\n",
    "\n",
    "# Simulate the falling bytes and check for the path\n",
    "for i, (x, y) in enumerate(bytes_positions):\n",
    "    grid[y][x] = '#'\n",
    "    if not bfs(start, end, grid):\n",
    "        print(f\"{x},{y}\")\n",
    "        break"
   ]
  },
  {
   "cell_type": "code",
   "execution_count": null,
   "metadata": {},
   "outputs": [],
   "source": []
  }
 ],
 "metadata": {
  "kernelspec": {
   "display_name": ".conda",
   "language": "python",
   "name": "python3"
  },
  "language_info": {
   "codemirror_mode": {
    "name": "ipython",
    "version": 3
   },
   "file_extension": ".py",
   "mimetype": "text/x-python",
   "name": "python",
   "nbconvert_exporter": "python",
   "pygments_lexer": "ipython3",
   "version": "3.11.10"
  }
 },
 "nbformat": 4,
 "nbformat_minor": 2
}
