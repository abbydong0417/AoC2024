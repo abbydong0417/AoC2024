{
 "cells": [
  {
   "cell_type": "code",
   "execution_count": 29,
   "metadata": {},
   "outputs": [
    {
     "name": "stdout",
     "output_type": "stream",
     "text": [
      "[572556, 22, 0, 528, 4679021, 1, 10725, 2790]\n"
     ]
    }
   ],
   "source": [
    "# Read \"aoc11.txt\" as the input list\n",
    "with open(\"aoc11.txt\", \"r\") as file1:\n",
    "    input_list = file1.read().split()\n",
    "print([int(stone) for stone in input_list])"
   ]
  },
  {
   "cell_type": "code",
   "execution_count": 1,
   "metadata": {},
   "outputs": [],
   "source": [
    "# Function for each change. The rules are:\n",
    "# If the number is 0, change it to 1\n",
    "# If the number has even digits, split it in half to two numbers, if the split number has extra 0 in the front, remove it\n",
    "# If nither of the above, multiple the number by 2024\n",
    "# Return the new list\n",
    "def change(stone):\n",
    "    new_list = []\n",
    "    stone_count = len(stone)\n",
    "    for i in stone:\n",
    "        if i == 0:\n",
    "            new_list.append(1)\n",
    "        elif len(str(i)) % 2 == 0:\n",
    "            half_length = int(len(str(i)) // 2)\n",
    "            new_list.append(int(str(i)[:half_length]))\n",
    "            new_list.append(int(str(i)[half_length:]))\n",
    "            stone_count += 1\n",
    "        else:\n",
    "            new_list.append(i * 2024)\n",
    "    return new_list, stone_count"
   ]
  },
  {
   "cell_type": "code",
   "execution_count": 2,
   "metadata": {},
   "outputs": [
    {
     "data": {
      "text/plain": [
       "([1036288, 7, 2, 20, 24, 4048, 1, 4048, 8096, 28, 67, 60, 32], 13)"
      ]
     },
     "execution_count": 2,
     "metadata": {},
     "output_type": "execute_result"
    }
   ],
   "source": [
    "change([512, 72, 2024, 2, 0, 2, 4, 2867, 6032])"
   ]
  },
  {
   "cell_type": "code",
   "execution_count": 7,
   "metadata": {},
   "outputs": [],
   "source": [
    "test_input=[125,17]"
   ]
  },
  {
   "cell_type": "code",
   "execution_count": 5,
   "metadata": {},
   "outputs": [],
   "source": [
    "input_list = [572556, 22, 0, 528, 4679021, 1, 10725, 2790]"
   ]
  },
  {
   "cell_type": "code",
   "execution_count": 1,
   "metadata": {},
   "outputs": [],
   "source": [
    "import sys\n",
    "sys.set_int_max_str_digits(10000)"
   ]
  },
  {
   "cell_type": "code",
   "execution_count": 2,
   "metadata": {},
   "outputs": [],
   "source": [
    "def change_memory_friendly(stone):\n",
    "    new_list = []\n",
    "    stone_count = len(stone)\n",
    "    for i in stone:\n",
    "        if i == 0:\n",
    "            new_list.append(1)\n",
    "        else:\n",
    "            num_digits = len(str(i))\n",
    "            if num_digits % 2 == 0:\n",
    "                half_length = num_digits // 2\n",
    "                divisor = 10 ** half_length\n",
    "                new_list.append(i // divisor)\n",
    "                new_list.append(i % divisor)\n",
    "                stone_count += 1\n",
    "            else:\n",
    "                new_list.append(i * 2024)\n",
    "    return new_list, stone_count"
   ]
  },
  {
   "cell_type": "code",
   "execution_count": 3,
   "metadata": {},
   "outputs": [],
   "source": [
    "def change_multiple_times(stone, n):\n",
    "    for i in range(n):\n",
    "        stone, stone_count = change_memory_friendly(stone)\n",
    "    print(stone_count)  "
   ]
  },
  {
   "cell_type": "code",
   "execution_count": null,
   "metadata": {},
   "outputs": [],
   "source": [
    "change_multiple_times(input_list, 75)"
   ]
  },
  {
   "cell_type": "code",
   "execution_count": null,
   "metadata": {},
   "outputs": [],
   "source": []
  }
 ],
 "metadata": {
  "kernelspec": {
   "display_name": ".conda",
   "language": "python",
   "name": "python3"
  },
  "language_info": {
   "codemirror_mode": {
    "name": "ipython",
    "version": 3
   },
   "file_extension": ".py",
   "mimetype": "text/x-python",
   "name": "python",
   "nbconvert_exporter": "python",
   "pygments_lexer": "ipython3",
   "version": "3.11.10"
  }
 },
 "nbformat": 4,
 "nbformat_minor": 2
}
